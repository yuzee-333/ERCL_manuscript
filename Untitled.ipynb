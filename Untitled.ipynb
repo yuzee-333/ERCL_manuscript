{
 "cells": [
  {
   "cell_type": "code",
   "execution_count": null,
   "id": "1896aeb3",
   "metadata": {},
   "outputs": [],
   "source": []
  },
  {
   "cell_type": "code",
   "execution_count": 2,
   "id": "3406166b",
   "metadata": {},
   "outputs": [],
   "source": [
    "import pandas as pd\n",
    "import numpy as np"
   ]
  },
  {
   "cell_type": "code",
   "execution_count": 13,
   "id": "d0890788",
   "metadata": {},
   "outputs": [],
   "source": [
    "regions = {\"Northern_Amazon\": [\"MMM\",\"ACCESS-ESM1-5\",\"CanESM5\",\"CMCC-CM2-SR5\",\"CMCC-ESM2\",\"EC-Earth3\",\\\n",
    "\"EC-Earth3-CC\",\"FIO-ESM-2-0\",\"GISS-E2-1-H\",\"INM-CM5-0\",\"IPSL-CM6A-LR\",\"MIROC6\",\\\n",
    "\"MPI-ESM1-2-HR\",\"MRI-ESM2-0\",\"NorESM2-MM\",\"FGOALS-g3\",\"CESM2-WACCM\",\"KACE-1-0-G\",\\\n",
    "\"TaiESM1\",\"CESM2\",\"GFDL-ESM4\",\"BCC-CSM2-MR\",\"CAMS-CSM1-0\",\"INM-CM4-8\",\"NESM3\",\\\n",
    "\"ACCESS-CM2\",\"GISS-E2-1-G\", \"E3SM-1-0\", \"E3SM-1-1-ECA\", \"E3SM-1-1\",\"IITM-ESM\",\\\n",
    "\"AWI-CM-1-1-MR\",\"FGOALS-f3-L\",\"MPI-ESM1-2-LR\",\"NorESM2-LM\",\"CAS-ESM2-0\"],\n",
    "                     \"Central_Africa\": [\"MMM\",\"ACCESS-CM2\",\"ACCESS-ESM1-5\",\"BCC-CSM2-MR\",\"CESM2\",\"CMCC-CM2-SR5\",\\\n",
    "\"CMCC-ESM2\",\"E3SM-1-0\",\"E3SM-1-1-ECA\",\"E3SM-1-1\",\"EC-Earth3\",\"EC-Earth3-CC\",\\\n",
    "\"FGOALS-g3\",\"FIO-ESM-2-0\",\"IITM-ESM\",\"INM-CM4-8\",\"INM-CM5-0\",\"KACE-1-0-G\",\\\n",
    "\"MIROC6\",\"MPI-ESM1-2-HR\",\"NorESM2-MM\",\"CESM2-WACCM\",\"CAS-ESM2-0\",\"MRI-ESM2-0\",\\\n",
    "\"NESM3\",\"IPSL-CM6A-LR\",\"FGOALS-f3-L\",\"MPI-ESM1-2-LR\",\"AWI-CM-1-1-MR\",\"NorESM2-LM\",\\\n",
    "\"TaiESM1\",\"CAMS-CSM1-0\",\"GFDL-ESM4\",\"GISS-E2-1-G\",\"GISS-E2-1-H\",\"CanESM5\"],\n",
    "                     \"Guinea_Coast\": [\"MMM\",\"ACCESS-ESM1-5\",\"CMCC-CM2-SR5\",\"CMCC-ESM2\",\"FIO-ESM-2-0\", \"NorESM2-LM\",\\\n",
    "\"NorESM2-MM\",\"E3SM-1-1-ECA\",\"E3SM-1-1\",\"EC-Earth3-CC\",\"BCC-CSM2-MR\",\"CAS-ESM2-0\",\\\n",
    "\"CESM2\",\"CESM2-WACCM\",\"MPI-ESM1-2-HR\",\"MPI-ESM1-2-LR\",\"NESM3\",\"MIROC6\",\\\n",
    "\"AWI-CM-1-1-MR\",\"EC-Earth3\",\"KACE-1-0-G\",\"E3SM-1-0\",\"CAMS-CSM1-0\",\"TaiESM1\",\"INM-CM4-8\",\\\n",
    "\"MRI-ESM2-0\",\"GFDL-ESM4\",\"GISS-E2-1-G\",\"GISS-E2-1-H\",\"FGOALS-g3\",\"IPSL-CM6A-LR\",\"CanESM5\",\\\n",
    "\"INM-CM5-0\",\"FGOALS-f3-L\",\"ACCESS-CM2\",\"IITM-ESM\"],\n",
    "                     \"South_East_Brazil\": [\"MMM\",\"ACCESS-CM2\",\"ACCESS-ESM1-5\",\"GFDL-ESM4\",\"NESM3\",\"FIO-ESM-2-0\",\\\n",
    "\"CESM2\",\"CESM2-WACCM\",\"CMCC-CM2-SR5\",\"CMCC-ESM2\",\"EC-Earth3-CC\",\"MPI-ESM1-2-LR\",\\\n",
    "\"MRI-ESM2-0\",\"NorESM2-LM\",\"NorESM2-MM\",\"AWI-CM-1-1-MR\",\"BCC-CSM2-MR\",\"CAMS-CSM1-0\",\\\n",
    "\"FGOALS-g3\",\"E3SM-1-0\",\"MIROC6\",\"INM-CM5-0\",\"CanESM5\",\"E3SM-1-1-ECA\",\"INM-CM4-8\",\\\n",
    "\"MPI-ESM1-2-HR\",\"EC-Earth3\",\"CAS-ESM2-0\",\"IPSL-CM6A-LR\",\"KACE-1-0-G\",\"E3SM-1-1\",\\\n",
    "\"FGOALS-f3-L\",\"GISS-E2-1-H\",\"GISS-E2-1-G\",\"IITM-ESM\",\"TaiESM1\"]}\n",
    "\n",
    "regions_mod_names = pd.DataFrame(regions)\n",
    "regions_mod_names\n",
    "regions_mod_names.to_csv('Model_names_by_Cat.csv')"
   ]
  },
  {
   "cell_type": "code",
   "execution_count": 7,
   "id": "d01640e4",
   "metadata": {},
   "outputs": [
    {
     "data": {
      "text/plain": [
       "0               MMM\n",
       "1        ACCESS-CM2\n",
       "2     ACCESS-ESM1-5\n",
       "3       BCC-CSM2-MR\n",
       "4             CESM2\n",
       "5      CMCC-CM2-SR5\n",
       "6         CMCC-ESM2\n",
       "7          E3SM-1-0\n",
       "8      E3SM-1-1-ECA\n",
       "9          E3SM-1-1\n",
       "10        EC-Earth3\n",
       "11     EC-Earth3-CC\n",
       "12        FGOALS-g3\n",
       "13      FIO-ESM-2-0\n",
       "14         IITM-ESM\n",
       "15        INM-CM4-8\n",
       "16        INM-CM5-0\n",
       "17       KACE-1-0-G\n",
       "18           MIROC6\n",
       "19    MPI-ESM1-2-HR\n",
       "20       NorESM2-MM\n",
       "21      CESM2-WACCM\n",
       "22       CAS-ESM2-0\n",
       "23       MRI-ESM2-0\n",
       "24            NESM3\n",
       "25     IPSL-CM6A-LR\n",
       "26      FGOALS-f3-L\n",
       "27    MPI-ESM1-2-LR\n",
       "28    AWI-CM-1-1-MR\n",
       "29       NorESM2-LM\n",
       "30          TaiESM1\n",
       "31      CAMS-CSM1-0\n",
       "32        GFDL-ESM4\n",
       "33      GISS-E2-1-G\n",
       "34      GISS-E2-1-H\n",
       "35          CanESM5\n",
       "dtype: object"
      ]
     },
     "execution_count": 7,
     "metadata": {},
     "output_type": "execute_result"
    }
   ],
   "source": [
    "Central_Africa"
   ]
  },
  {
   "cell_type": "code",
   "execution_count": 8,
   "id": "613d8bdf",
   "metadata": {},
   "outputs": [
    {
     "data": {
      "text/plain": [
       "0               MMM\n",
       "1     ACCESS-ESM1-5\n",
       "2      CMCC-CM2-SR5\n",
       "3         CMCC-ESM2\n",
       "4       FIO-ESM-2-0\n",
       "5        NorESM2-LM\n",
       "6        NorESM2-MM\n",
       "7      E3SM-1-1-ECA\n",
       "8          E3SM-1-1\n",
       "9      EC-Earth3-CC\n",
       "10      BCC-CSM2-MR\n",
       "11       CAS-ESM2-0\n",
       "12            CESM2\n",
       "13      CESM2-WACCM\n",
       "14    MPI-ESM1-2-HR\n",
       "15    MPI-ESM1-2-LR\n",
       "16            NESM3\n",
       "17           MIROC6\n",
       "18    AWI-CM-1-1-MR\n",
       "19        EC-Earth3\n",
       "20       KACE-1-0-G\n",
       "21         E3SM-1-0\n",
       "22      CAMS-CSM1-0\n",
       "23          TaiESM1\n",
       "24        INM-CM4-8\n",
       "25       MRI-ESM2-0\n",
       "26        GFDL-ESM4\n",
       "27      GISS-E2-1-G\n",
       "28      GISS-E2-1-H\n",
       "29        FGOALS-g3\n",
       "30     IPSL-CM6A-LR\n",
       "31          CanESM5\n",
       "32        INM-CM5-0\n",
       "33      FGOALS-f3-L\n",
       "34       ACCESS-CM2\n",
       "35         IITM-ESM\n",
       "dtype: object"
      ]
     },
     "execution_count": 8,
     "metadata": {},
     "output_type": "execute_result"
    }
   ],
   "source": [
    "Guinea_Coast"
   ]
  },
  {
   "cell_type": "code",
   "execution_count": 9,
   "id": "a90bd901",
   "metadata": {},
   "outputs": [
    {
     "data": {
      "text/plain": [
       "0               MMM\n",
       "1        ACCESS-CM2\n",
       "2     ACCESS-ESM1-5\n",
       "3         GFDL-ESM4\n",
       "4             NESM3\n",
       "5       FIO-ESM-2-0\n",
       "6             CESM2\n",
       "7       CESM2-WACCM\n",
       "8      CMCC-CM2-SR5\n",
       "9         CMCC-ESM2\n",
       "10     EC-Earth3-CC\n",
       "11    MPI-ESM1-2-LR\n",
       "12       MRI-ESM2-0\n",
       "13       NorESM2-LM\n",
       "14       NorESM2-MM\n",
       "15    AWI-CM-1-1-MR\n",
       "16      BCC-CSM2-MR\n",
       "17      CAMS-CSM1-0\n",
       "18        FGOALS-g3\n",
       "19         E3SM-1-0\n",
       "20           MIROC6\n",
       "21        INM-CM5-0\n",
       "22          CanESM5\n",
       "23     E3SM-1-1-ECA\n",
       "24        INM-CM4-8\n",
       "25    MPI-ESM1-2-HR\n",
       "26        EC-Earth3\n",
       "27       CAS-ESM2-0\n",
       "28     IPSL-CM6A-LR\n",
       "29       KACE-1-0-G\n",
       "30         E3SM-1-1\n",
       "31      FGOALS-f3-L\n",
       "32      GISS-E2-1-H\n",
       "33      GISS-E2-1-G\n",
       "34         IITM-ESM\n",
       "35          TaiESM1\n",
       "dtype: object"
      ]
     },
     "execution_count": 9,
     "metadata": {},
     "output_type": "execute_result"
    }
   ],
   "source": [
    "South_East_Brazil"
   ]
  }
 ],
 "metadata": {
  "kernelspec": {
   "display_name": "Python 3 (ipykernel)",
   "language": "python",
   "name": "python3"
  },
  "language_info": {
   "codemirror_mode": {
    "name": "ipython",
    "version": 3
   },
   "file_extension": ".py",
   "mimetype": "text/x-python",
   "name": "python",
   "nbconvert_exporter": "python",
   "pygments_lexer": "ipython3",
   "version": "3.10.12"
  }
 },
 "nbformat": 4,
 "nbformat_minor": 5
}
